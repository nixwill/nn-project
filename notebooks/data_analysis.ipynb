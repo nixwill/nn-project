{
 "cells": [
  {
   "cell_type": "code",
   "execution_count": 1,
   "outputs": [],
   "source": [
    "import sys\n",
    "sys.path.append('..')"
   ],
   "metadata": {
    "collapsed": false,
    "pycharm": {
     "name": "#%%\n",
     "is_executing": false
    }
   }
  },
  {
   "cell_type": "code",
   "execution_count": 2,
   "outputs": [],
   "source": [
    "import nn_project\n",
    "import itertools"
   ],
   "metadata": {
    "collapsed": false,
    "pycharm": {
     "name": "#%%\n",
     "is_executing": false
    }
   }
  },
  {
   "cell_type": "code",
   "execution_count": 18,
   "outputs": [],
   "source": [
    "samples_en, samples_cs, vocab_en, vocab_cs = nn_project.data.get_data(\n",
    "    limit=100000,\n",
    "    vocab_size=50,\n",
    ")"
   ],
   "metadata": {
    "collapsed": false,
    "pycharm": {
     "name": "#%%\n",
     "is_executing": false
    }
   }
  },
  {
   "cell_type": "code",
   "execution_count": 19,
   "outputs": [
    {
     "name": "stdout",
     "text": [
      "(['Construction', 'and', 'repair', 'of', 'highways', 'and', '...'], ['Výstavba', 'a', 'oprava', 'automobilových', 'cest', 'a', '...'])\n(['Services', 'of', 'language', 'translation', 'with', 'use', 'of', '...'], ['Služby', 'jazykového', 'překladu', 's', 'použití', 'spojení', '...'])\n(['Services', 'in', 'maintenance', 'service', 'and', 'repair', '...'], ['Služby', 'technické', 'obsluhy', 'a', 'opravy', 'nákladních', '...'])\n(['Services', 'in', 'maintenance', 'service', 'and', 'repair', '...'], ['Služby', 'technické', 'obsluhy', 'a', 'opravy', 'osobných', '...'])\n(['Translator', 'Internet', 'is', 'a', 'Toolbar', 'for', 'MS', 'Internet', 'Explorer', '.', 'It', 'allows', 'you', 'to', 'translate', 'in', 'real', 'time', 'any', 'web', 'pasge', 'from', 'one', 'language', 'to', 'another', '.'], ['Clean', ',', 'repair', ',', 'and', 'optimize', 'your', 'system', 'with', 'the', 'leading', 'and', 'award-winning', 'Registry', 'Booster', 'from', 'Uniblue.Residual', 'files', ',', 'unused', 'and', 'undeleted', 'drivers', ',', 'and', 'corrupt', 'or', 'bad', 'entries', 'in', 'registry', 'settings', 'will', 'quickly', 'litter', 'even', 'the', 'newest', 'of', 'computers', '.'])\n(['You', 'only', 'have', 'to', 'select', 'languages', 'and', 'TI', 'does', 'all', 'the', 'work', 'for', 'you', '!', 'Automatic', 'dictionary', 'updates', '....'], ['Registry', 'Booster', 'is', 'the', 'safest', 'and', 'most', 'trusted', 'solution', 'to', 'clean', 'and', 'optimize', 'your', 'system', ',', 'free', 'it', 'from', 'registry', 'errors', 'and', 'fragmented', 'entries', '...'])\n(['This', 'software', 'is', 'written', 'in', 'order', 'to', 'increase', 'your', 'English', 'keyboard', 'typing', 'speed', ',', 'through', 'teaching', 'the', 'basics', 'of', 'how', 'to', 'put', 'your', 'hand', 'on', 'to', 'the', 'keyboard', 'and', 'give', 'some', 'training', 'examples', '.'], ['Professional', 'serial', 'communication', 'library', 'component', 'for', 'C', '#', ',', 'Visual', 'Basic', '.Net', 'and', 'all', '.Net', 'development', 'tools', '.'])\n(['Each', 'lesson', 'teaches', 'some', 'extra', 'keys', ',', 'and', 'there', 'is', 'also', 'a', 'practice', ',', 'if', 'it', 'is', 'chosen', ',', 'one', 'can', 'practice', 'the', 'previous', 'keys', 'learned', 'through', 'the', 'previous', 'lessons', '.', 'The', 'words', 'chosen', 'in', 'the', 'practice', 'are', 'mostly', 'meaningful', 'and', 'relates', 'to', 'the', 'tough', 'keys', '...'], ['Major', 'Features', 'include', 'support', 'for', 'C', '#', ',', 'Visual', 'Basic', '.Net', ',', 'support', 'for', 'ALL', '...'])\n(['Are', 'you', 'one', 'of', 'millions', 'out', 'there', 'who', 'are', 'trying', 'to', 'learn', 'foreign', 'language', ',', 'but', 'never', 'have', 'enough', 'time', '?'], ['DVD-Cloner', 'IV', '-', 'Express', 'interface', 'is', 'super-easy', 'to', 'use', '.'])\n(['Get', 'VTeacher', ',', 'a', 'screensaver', 'that', 'displays', 'words', 'and', 'phrases', 'you', 'are', 'trying', 'to', 'learn', 'and', 'their', 'translation', '.'], ['It', 'is', 'a', 'real', 'one-click', 'operation', ',', 'and', 'especially', 'suitable', 'for', 'beginners', '.'])\n"
     ],
     "output_type": "stream"
    }
   ],
   "source": [
    "for sample in itertools.islice(zip(samples_en, samples_cs), 10):\n",
    "    print(sample)"
   ],
   "metadata": {
    "collapsed": false,
    "pycharm": {
     "name": "#%%\n",
     "is_executing": false
    }
   }
  },
  {
   "cell_type": "code",
   "execution_count": 20,
   "outputs": [
    {
     "name": "stdout",
     "text": [
      "1 ,\n2 .\n3 the\n4 and\n5 of\n6 to\n7 in\n8 a\n9 is\n10 The\n11 for\n12 :\n13 /\n14 hotel\n15 with\n16 you\n17 Hotel\n18 (\n19 )\n20 are\n21 at\n22 was\n23 from\n24 on\n25 by\n26 that\n27 -\n28 be\n29 or\n30 as\n31 stay\n32 [\n33 ]\n34 our\n35 reviews\n36 it\n37 \"\n38 '\n39 an\n40 rooms\n41 this\n42 their\n43 your\n44 very\n45 will\n46 not\n47 Rooms\n48 can\n49 room\n50 all\n"
     ],
     "output_type": "stream"
    }
   ],
   "source": [
    "for token, token_id in vocab_en.items():\n",
    "    print(token_id, token)"
   ],
   "metadata": {
    "collapsed": false,
    "pycharm": {
     "name": "#%%\n",
     "is_executing": false
    }
   }
  },
  {
   "cell_type": "code",
   "execution_count": 21,
   "outputs": [
    {
     "name": "stdout",
     "text": [
      "1 ,\n2 .\n3 a\n4 the\n5 v\n6 /\n7 and\n8 :\n9 Hotel\n10 (\n11 na\n12 )\n13 to\n14 of\n15 se\n16 je\n17 in\n18 pro\n19 hotel\n20 s\n21 is\n22 -\n23 was\n24 The\n25 do\n26 '\n27 [\n28 pokoje\n29 ]\n30 hostů\n31 Hodnocení\n32 for\n33 z\n34 |\n35 \"\n36 ...\n37 k\n38 za\n39 hotelu\n40 po\n41 very\n42 with\n43 from\n44 ve\n45 nebo\n46 !\n47 má\n48 služba\n49 jsou\n50 room\n"
     ],
     "output_type": "stream"
    }
   ],
   "source": [
    "for token, token_id in vocab_cs.items():\n",
    "    print(token_id, token)"
   ],
   "metadata": {
    "collapsed": false,
    "pycharm": {
     "name": "#%%\n",
     "is_executing": false
    }
   }
  }
 ],
 "metadata": {
  "kernelspec": {
   "name": "python3",
   "language": "python",
   "display_name": "Python 3"
  },
  "language_info": {
   "codemirror_mode": {
    "name": "ipython",
    "version": 2
   },
   "file_extension": ".py",
   "mimetype": "text/x-python",
   "name": "python",
   "nbconvert_exporter": "python",
   "pygments_lexer": "ipython2",
   "version": "2.7.6"
  },
  "pycharm": {
   "stem_cell": {
    "cell_type": "raw",
    "source": [],
    "metadata": {
     "collapsed": false
    }
   }
  }
 },
 "nbformat": 4,
 "nbformat_minor": 0
}
