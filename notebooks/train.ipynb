{
 "cells": [
  {
   "cell_type": "code",
   "execution_count": 1,
   "metadata": {
    "pycharm": {
     "is_executing": false
    }
   },
   "outputs": [],
   "source": [
    "import sys\n",
    "sys.path.append('..')\n",
    "\n",
    "%load_ext autoreload\n",
    "%autoreload 2"
   ]
  },
  {
   "cell_type": "code",
   "execution_count": 2,
   "metadata": {
    "pycharm": {
     "is_executing": false,
     "name": "#%%\n"
    }
   },
   "outputs": [],
   "source": [
    "import nn_project"
   ]
  },
  {
   "cell_type": "code",
   "execution_count": 3,
   "metadata": {
    "pycharm": {
     "is_executing": false,
     "name": "#%%\n"
    }
   },
   "outputs": [],
   "source": [
    "samples_en, samples_cs, vocab_en, vocab_cs = nn_project.data.get_data(\n",
    "    limit=1000,\n",
    "    vocab_size=None,\n",
    "    encoded=True,\n",
    ")"
   ]
  },
  {
   "cell_type": "code",
   "execution_count": 4,
   "metadata": {
    "pycharm": {
     "is_executing": false,
     "name": "#%%\n"
    }
   },
   "outputs": [],
   "source": [
    "from tensorflow.keras.preprocessing.sequence import pad_sequences\n",
    "train_en = pad_sequences(sequences=samples_en, padding='post')\n",
    "train_cs = pad_sequences(sequences=samples_cs, padding='post')"
   ]
  },
  {
   "cell_type": "code",
   "execution_count": 5,
   "metadata": {
    "pycharm": {
     "is_executing": false,
     "name": "#%%\n"
    }
   },
   "outputs": [
    {
     "name": "stdout",
     "output_type": "stream",
     "text": [
      "(1000, 166)\n",
      "(1000, 97)\n",
      "4876\n",
      "6801\n"
     ]
    }
   ],
   "source": [
    "print(train_en.shape)\n",
    "print(train_cs.shape)\n",
    "print(len(vocab_en))\n",
    "print(len(vocab_cs))"
   ]
  },
  {
   "cell_type": "code",
   "execution_count": 6,
   "metadata": {
    "pycharm": {
     "is_executing": false,
     "name": "#%%\n"
    }
   },
   "outputs": [],
   "source": [
    "model = nn_project.model.EncoderDecoder(\n",
    "    input_length=train_en.shape[0],\n",
    "    input_vocab_size=len(vocab_en),\n",
    "    input_embedding_size=50,\n",
    "    context_vector_size=50,\n",
    "    output_length=train_cs.shape[1],\n",
    "    output_vocab_size=len(vocab_cs),\n",
    "    output_embedding_size=50,\n",
    ")"
   ]
  },
  {
   "cell_type": "code",
   "execution_count": 7,
   "metadata": {
    "pycharm": {
     "is_executing": false,
     "name": "#%%\n"
    }
   },
   "outputs": [],
   "source": [
    "from tensorflow.keras import metrics, optimizers\n",
    "\n",
    "model.compile(\n",
    "    optimizer='adam',\n",
    "    loss='sparse_categorical_crossentropy',\n",
    "    metrics=['accuracy'],\n",
    ")"
   ]
  },
  {
   "cell_type": "code",
   "execution_count": null,
   "metadata": {
    "pycharm": {
     "is_executing": false,
     "name": "#%%\n"
    },
    "scrolled": true
   },
   "outputs": [
    {
     "name": "stdout",
     "output_type": "stream",
     "text": [
      "Train on 800 samples, validate on 200 samples\n",
      "Epoch 1/10\n",
      "800/800 [==============================] - 41s 51ms/sample - loss: 8.2157 - accuracy: 0.4385 - val_loss: 6.7548 - val_accuracy: 0.7555\n",
      "Epoch 2/10\n",
      "800/800 [==============================] - 29s 37ms/sample - loss: 4.5550 - accuracy: 0.7743 - val_loss: 2.8487 - val_accuracy: 0.7555\n",
      "Epoch 3/10\n",
      "800/800 [==============================] - 29s 36ms/sample - loss: 2.3524 - accuracy: 0.7653 - val_loss: 2.4646 - val_accuracy: 0.7555\n",
      "Epoch 4/10\n",
      "800/800 [==============================] - 28s 35ms/sample - loss: 2.5718 - accuracy: 0.7465 - val_loss: 2.4743 - val_accuracy: 0.7555\n",
      "Epoch 5/10\n",
      "800/800 [==============================] - 26s 32ms/sample - loss: 2.1123 - accuracy: 0.7743 - val_loss: 2.4805 - val_accuracy: 0.7555\n",
      "Epoch 6/10\n",
      "800/800 [==============================] - 25s 31ms/sample - loss: 2.1026 - accuracy: 0.7743 - val_loss: 2.4887 - val_accuracy: 0.7555\n",
      "Epoch 7/10\n",
      "800/800 [==============================] - 25s 32ms/sample - loss: 2.0910 - accuracy: 0.7743 - val_loss: 2.4914 - val_accuracy: 0.7555\n",
      "Epoch 8/10\n",
      "480/800 [=================>............] - ETA: 8s - loss: 2.0691 - accuracy: 0.7742"
     ]
    }
   ],
   "source": [
    "from tensorflow.keras import callbacks\n",
    "\n",
    "callbacks = [\n",
    "    callbacks.EarlyStopping(patience=5),\n",
    "    callbacks.ModelCheckpoint(filepath='../models/checkpoint.latest'),\n",
    "    callbacks.ModelCheckpoint(filepath='../models/checkpoint.best', save_best_only=True),\n",
    "    callbacks.TensorBoard(log_dir='../logs/checkpoint/'),\n",
    "]\n",
    "\n",
    "history = model.fit(\n",
    "    x=train_en,\n",
    "    y=train_cs,\n",
    "    batch_size=32,\n",
    "    epochs=10,\n",
    "    validation_split=0.2,\n",
    "    callbacks=callbacks,\n",
    ")\n",
    "\n",
    "model.summary()"
   ]
  }
 ],
 "metadata": {
  "kernelspec": {
   "display_name": "Python 3",
   "language": "python",
   "name": "python3"
  },
  "language_info": {
   "codemirror_mode": {
    "name": "ipython",
    "version": 3
   },
   "file_extension": ".py",
   "mimetype": "text/x-python",
   "name": "python",
   "nbconvert_exporter": "python",
   "pygments_lexer": "ipython3",
   "version": "3.6.8"
  },
  "pycharm": {
   "stem_cell": {
    "cell_type": "raw",
    "metadata": {
     "collapsed": false
    },
    "source": []
   }
  }
 },
 "nbformat": 4,
 "nbformat_minor": 1
}
